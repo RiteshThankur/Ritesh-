{
 "cells": [
  {
   "cell_type": "markdown",
   "id": "f9b3ab3d-f2ed-4d53-af58-fe5bc5cfafc3",
   "metadata": {},
   "source": [
    "# NUMPY"
   ]
  },
  {
   "cell_type": "markdown",
   "id": "8ab2c88c-c501-40ec-b9a3-bef1f86cb7bf",
   "metadata": {},
   "source": [
    "#### NumPy (Numerical Python) is a powerful Python library used for numerical computing. It provides support for large multi-dimensional arrays and matrices, along with a collection of mathematical functions to operate on these arrays efficiently. NumPy is the foundation for most scientific computing libraries in Python, such as pandas, SciPy, and scikit-learn."
   ]
  },
  {
   "cell_type": "code",
   "execution_count": null,
   "id": "5ca6f3a4-02d9-4d53-b165-5155f14bb1d2",
   "metadata": {},
   "outputs": [],
   "source": [
    "import numpy as np\n",
    "#creating a 1D array\n",
    "arr=np.array([1,2,3,4,5])\n",
    "print(arr) # create arra"
   ]
  },
  {
   "cell_type": "code",
   "execution_count": 2,
   "id": "772bced4-6e1e-422e-b678-4e1aec2e127e",
   "metadata": {},
   "outputs": [
    {
     "name": "stdout",
     "output_type": "stream",
     "text": [
      "[[1 2]\n",
      " [3 4]]\n"
     ]
    }
   ],
   "source": [
    "# .shape-with the help of shape you can check the shape(dimension) of an array\n",
    "ard=np.array([[1,2],[3,4]])\n",
    "print(ard)"
   ]
  },
  {
   "cell_type": "code",
   "execution_count": 3,
   "id": "1c031086-3679-4ba3-89a1-04c60c74a911",
   "metadata": {},
   "outputs": [
    {
     "name": "stdout",
     "output_type": "stream",
     "text": [
      "[[0. 0. 0.]\n",
      " [0. 0. 0.]\n",
      " [0. 0. 0.]]\n",
      "[[1. 1.]\n",
      " [1. 1.]]\n",
      "[0 2 4 6 8]\n",
      "[0.   0.25 0.5  0.75 1.  ]\n"
     ]
    }
   ],
   "source": [
    "#array cretion function\n",
    "zeros=np.zeros((3,3))\n",
    "ones=np.ones((2,2))\n",
    "range_arr=np.arange(0,10,2)\n",
    "linspace_arr=np.linspace(0,1,5)\n",
    "print(zeros)\n",
    "print(ones)\n",
    "print(range_arr)\n",
    "print(linspace_arr)"
   ]
  },
  {
   "cell_type": "code",
   "execution_count": 4,
   "id": "109f3c71-e69b-4e58-8fbe-984320fd32db",
   "metadata": {},
   "outputs": [
    {
     "name": "stdout",
     "output_type": "stream",
     "text": [
      "[ 6  8 10 12]\n"
     ]
    }
   ],
   "source": [
    "#array opertion\n",
    "arr1=np.array([1,2,3,4])\n",
    "arr2=np.array([5,6,7,8])\n",
    "#Element wise additon \n",
    "sum_arr=arr1+arr2\n",
    "print(sum_arr)"
   ]
  },
  {
   "cell_type": "code",
   "execution_count": 5,
   "id": "e4522927-e093-4154-9d6a-02b63c6bb63c",
   "metadata": {},
   "outputs": [
    {
     "name": "stdout",
     "output_type": "stream",
     "text": [
      "[6 7 8 9]\n"
     ]
    }
   ],
   "source": [
    "#broadcasting\n",
    "arr=np.array([1,2,3,4])\n",
    "result=arr+5\n",
    "print(result)"
   ]
  },
  {
   "cell_type": "code",
   "execution_count": 6,
   "id": "5a44d2d6-6342-4928-bca8-f75c48b289ce",
   "metadata": {},
   "outputs": [
    {
     "name": "stdout",
     "output_type": "stream",
     "text": [
      "6.6\n"
     ]
    }
   ],
   "source": [
    "#Mathematical operations\n",
    "data=np.array([5,6,7,7,8])\n",
    "print(np.mean(data)) #mean "
   ]
  },
  {
   "cell_type": "code",
   "execution_count": 7,
   "id": "9f983a18-5f9d-4a40-bedf-7cf848a4c6ef",
   "metadata": {},
   "outputs": [
    {
     "name": "stdout",
     "output_type": "stream",
     "text": [
      "7.45\n"
     ]
    }
   ],
   "source": [
    "yes=np.array([5,6.9,8,8])\n",
    "print(np.median(yes)) #median "
   ]
  },
  {
   "cell_type": "code",
   "execution_count": 8,
   "id": "00b7020b-45c7-4b3d-bebe-3ad4f5620323",
   "metadata": {},
   "outputs": [
    {
     "name": "stdout",
     "output_type": "stream",
     "text": [
      "2.727636339397171\n"
     ]
    }
   ],
   "source": [
    "yess=np.array([5,6,7,8,9,1,2,3,4,9])\n",
    "print(np.std(yess)) #standard deviation"
   ]
  },
  {
   "cell_type": "code",
   "execution_count": 9,
   "id": "cf60bead-49b4-4b3c-a448-7475036a135e",
   "metadata": {},
   "outputs": [
    {
     "name": "stdout",
     "output_type": "stream",
     "text": [
      "49\n"
     ]
    }
   ],
   "source": [
    "yee=np.array([4,5,5,5,6,9,8,7])\n",
    "print(np.sum(yee))"
   ]
  },
  {
   "cell_type": "code",
   "execution_count": 10,
   "id": "4eb6e120-24c2-4496-881a-a5af09a1c4f0",
   "metadata": {},
   "outputs": [
    {
     "name": "stdout",
     "output_type": "stream",
     "text": [
      "40\n"
     ]
    }
   ],
   "source": [
    "#Array indexing and slicing\n",
    "arr=np.array([10,20,30,40,50])\n",
    "print(arr[3]) #access the third element\n",
    "#arr[1:4]=[100,200,300] #modify elements in the range "
   ]
  },
  {
   "cell_type": "code",
   "execution_count": 11,
   "id": "bebeb072-cdad-4d36-92e6-272d344e28ff",
   "metadata": {},
   "outputs": [
    {
     "name": "stdout",
     "output_type": "stream",
     "text": [
      "[[19 22]\n",
      " [43 50]]\n"
     ]
    }
   ],
   "source": [
    "A=np.array([[1,2],[3,4]])\n",
    "B=np.array([[5,6],[7,8]])\n",
    "result=np.dot(A,B) #matrix mulitplication\n",
    "print(result)"
   ]
  },
  {
   "cell_type": "code",
   "execution_count": 12,
   "id": "6125c021-5d73-491b-93be-e256a7b02c59",
   "metadata": {},
   "outputs": [
    {
     "name": "stdout",
     "output_type": "stream",
     "text": [
      "[[0.07395026 0.2606138  0.70750748 0.88114485 0.92988909]\n",
      " [0.73251834 0.19284447 0.17543432 0.59937947 0.65596238]\n",
      " [0.68117862 0.53414396 0.96763682 0.93642625 0.401912  ]\n",
      " [0.87119175 0.46325721 0.44024583 0.19333662 0.6543713 ]\n",
      " [0.70779231 0.82269343 0.24131362 0.12792112 0.89333361]]\n"
     ]
    }
   ],
   "source": [
    "# Random modules\n",
    "random_arr=np.random.rand(5,5)\n",
    "print(random_arr)"
   ]
  },
  {
   "cell_type": "code",
   "execution_count": 13,
   "id": "703b9f0e-58ce-470e-b06a-ed4c67e720fa",
   "metadata": {},
   "outputs": [
    {
     "name": "stdout",
     "output_type": "stream",
     "text": [
      "(2, 2)\n"
     ]
    }
   ],
   "source": [
    "# to get the shape of an array\n",
    "arr=np.array([[1,2],[3,4]])\n",
    "print(np.shape(arr)) # means it is 2D array "
   ]
  },
  {
   "cell_type": "code",
   "execution_count": 14,
   "id": "09321d33-efe4-4530-a11a-d29788eebe93",
   "metadata": {},
   "outputs": [
    {
     "name": "stdout",
     "output_type": "stream",
     "text": [
      "[[1 2 3]\n",
      " [4 5 6]]\n"
     ]
    }
   ],
   "source": [
    "# to change the shape of array\n",
    "arr=np.array([1,2,3,4,5,6])\n",
    "print(np.reshape(arr,(2,3)))   "
   ]
  },
  {
   "cell_type": "code",
   "execution_count": 15,
   "id": "c60094f3-d215-4bbe-8532-ccd4129bfb4c",
   "metadata": {},
   "outputs": [
    {
     "name": "stdout",
     "output_type": "stream",
     "text": [
      "[[1 3]\n",
      " [2 4]]\n"
     ]
    }
   ],
   "source": [
    "# to transpose array\n",
    "arr=np.array([[1,2],[3,4]])\n",
    "transpose_arr=np.transpose(arr)\n",
    "print(transpose_arr) "
   ]
  },
  {
   "cell_type": "code",
   "execution_count": 16,
   "id": "efbad1e4-b8d1-4ac5-884c-e10b4b12a450",
   "metadata": {},
   "outputs": [
    {
     "name": "stdout",
     "output_type": "stream",
     "text": [
      "30\n"
     ]
    }
   ],
   "source": [
    "# to sum of array\n",
    "arr=np.array([1,2,3,5,9,10])\n",
    "print(np.sum(arr))"
   ]
  },
  {
   "cell_type": "code",
   "execution_count": 17,
   "id": "5b9d90d0-b99a-46d5-bc9b-80deb1c09198",
   "metadata": {},
   "outputs": [
    {
     "name": "stdout",
     "output_type": "stream",
     "text": [
      "1\n",
      "5\n"
     ]
    }
   ],
   "source": [
    "# to check min. and max. in array\n",
    "arr=np.array([1,2,3,4,5,])\n",
    "print(np.min(arr))\n",
    "print(np.max(arr))"
   ]
  },
  {
   "cell_type": "code",
   "execution_count": 18,
   "id": "1e6572fe-4f67-43f8-8091-32c550f78436",
   "metadata": {},
   "outputs": [
    {
     "name": "stdout",
     "output_type": "stream",
     "text": [
      "0\n",
      "6\n"
     ]
    }
   ],
   "source": [
    "# it return the index of the smallest and largest numbere respectively\n",
    "arr=np.array([1,2,3,4,5,6,7])\n",
    "print(np.argmin(arr))\n",
    "print(np.argmax(arr))"
   ]
  },
  {
   "cell_type": "code",
   "execution_count": 19,
   "id": "9f8594e8-a9a0-4b3d-a385-2adb20f41c47",
   "metadata": {},
   "outputs": [
    {
     "name": "stdout",
     "output_type": "stream",
     "text": [
      "[1 2 3 4 5 7]\n"
     ]
    }
   ],
   "source": [
    "# it return the sorted unique element of an array\n",
    "arr=np.array([1,2,3,4,7,5,4,3,2,1])\n",
    "print(np.unique(arr))"
   ]
  },
  {
   "cell_type": "code",
   "execution_count": 20,
   "id": "ce8f399e-b2ad-4bc5-8581-765f13266fd4",
   "metadata": {},
   "outputs": [
    {
     "name": "stdout",
     "output_type": "stream",
     "text": [
      "[1 2 3 4 5 6 7 8]\n"
     ]
    }
   ],
   "source": [
    "# function to cancatenate\n",
    "arr1=np.array([1,2,3,4])\n",
    "arr2=np.array([5,6,7,8]) \n",
    "result=np.concatenate((arr1,arr2))\n",
    "print(result)"
   ]
  },
  {
   "cell_type": "code",
   "execution_count": 21,
   "id": "bbd9b7dd-1868-4e92-824b-68f1f0a58968",
   "metadata": {},
   "outputs": [
    {
     "name": "stdout",
     "output_type": "stream",
     "text": [
      "[array([1, 2, 3]), array([4, 5, 6]), array([7, 8, 9])]\n"
     ]
    }
   ],
   "source": [
    "# split array into sub arrays\n",
    "arr=np.array([1,2,3,4,5,6,7,8,9])\n",
    "result=np.split(arr,3)  \n",
    "print(result)"
   ]
  },
  {
   "cell_type": "code",
   "execution_count": 22,
   "id": "ce5578a2-fd80-4ccb-999e-335eaac46f68",
   "metadata": {},
   "outputs": [
    {
     "name": "stdout",
     "output_type": "stream",
     "text": [
      "[[0.73543289 0.40721611 0.9049561 ]\n",
      " [0.05637149 0.03344036 0.8688744 ]]\n"
     ]
    }
   ],
   "source": [
    "# generate an array of random no. between 0 and 1\n",
    "rand_arr=np.random.rand(2,3)\n",
    "print(rand_arr)"
   ]
  },
  {
   "cell_type": "code",
   "execution_count": 23,
   "id": "d59f6d87-85a7-429f-8b5b-b28ce296cd94",
   "metadata": {},
   "outputs": [
    {
     "name": "stdout",
     "output_type": "stream",
     "text": [
      "[[1 6 2]\n",
      " [2 3 3]]\n"
     ]
    }
   ],
   "source": [
    "# to generate random intergers within a specified range\n",
    "rand_int_arr=np.random.randint(0,10,size=(2,3))\n",
    "print(rand_int_arr)"
   ]
  },
  {
   "cell_type": "code",
   "execution_count": 24,
   "id": "0d7abe1a-22a5-4a9d-b3aa-15da268762e3",
   "metadata": {},
   "outputs": [
    {
     "name": "stdout",
     "output_type": "stream",
     "text": [
      "[[19 24]\n",
      " [43 54]]\n"
     ]
    }
   ],
   "source": [
    "# array multiplication \n",
    "A=np.array([[1,2],[3,4]])\n",
    "B=np.array([[5,6],[7,9]])\n",
    "result=np.dot(A,B)\n",
    "print(result)"
   ]
  },
  {
   "cell_type": "code",
   "execution_count": 25,
   "id": "fd2c6c97-b39f-44ce-a534-36d3ea0fee8b",
   "metadata": {},
   "outputs": [
    {
     "name": "stdout",
     "output_type": "stream",
     "text": [
      "[0.   0.25 0.5  0.75 1.  ]\n"
     ]
    }
   ],
   "source": [
    "# equal space :-\n",
    "linspace_arr=np.linspace(0,1,5)\n",
    "print(linspace_arr)"
   ]
  },
  {
   "cell_type": "code",
   "execution_count": 26,
   "id": "66296980-8784-45ae-99c3-ccd89dd2a6a7",
   "metadata": {},
   "outputs": [
    {
     "name": "stdout",
     "output_type": "stream",
     "text": [
      "[[1. 0. 0.]\n",
      " [0. 1. 0.]\n",
      " [0. 0. 1.]]\n"
     ]
    }
   ],
   "source": [
    "# eye function\n",
    "identity_matrix=np.eye(3)\n",
    "print(identity_matrix)"
   ]
  },
  {
   "cell_type": "code",
   "execution_count": 27,
   "id": "acb34aec-b1c2-4681-b981-dcb93853616f",
   "metadata": {},
   "outputs": [
    {
     "name": "stdout",
     "output_type": "stream",
     "text": [
      "[1 7 3 4]\n",
      "[1 7 3 4]\n"
     ]
    }
   ],
   "source": [
    "arr=np.array([1,2,3,4])\n",
    "arr1=arr\n",
    "arr1[1]=7\n",
    "print(arr)\n",
    "print(arr1)"
   ]
  },
  {
   "cell_type": "code",
   "execution_count": 28,
   "id": "29e0b7ef-c82f-42a1-b960-a4b50ba91838",
   "metadata": {},
   "outputs": [
    {
     "name": "stdout",
     "output_type": "stream",
     "text": [
      "[[1 2]\n",
      " [3 4]]\n"
     ]
    }
   ],
   "source": [
    "arr=np.array([1,2,3,4])\n",
    "arr.shape           #reshape by vikram sir\n",
    "arr=arr.reshape((2,2))\n",
    "print(arr)"
   ]
  },
  {
   "cell_type": "code",
   "execution_count": 29,
   "id": "301b241c-0728-4689-9899-e5dbfe1d396f",
   "metadata": {},
   "outputs": [
    {
     "data": {
      "text/plain": [
       "[array([], shape=(0, 2), dtype=int64),\n",
       " array([[1, 2],\n",
       "        [3, 4]]),\n",
       " array([], shape=(0, 2), dtype=int64),\n",
       " array([], shape=(0, 2), dtype=int64)]"
      ]
     },
     "execution_count": 29,
     "metadata": {},
     "output_type": "execute_result"
    }
   ],
   "source": [
    "np.split(arr,[0,2,3])"
   ]
  },
  {
   "cell_type": "code",
   "execution_count": 30,
   "id": "b29de90c-e16d-452d-b82d-2683902f64f3",
   "metadata": {},
   "outputs": [
    {
     "name": "stdout",
     "output_type": "stream",
     "text": [
      "[[19 24]\n",
      " [43 54]]\n"
     ]
    }
   ],
   "source": [
    "# array multiplication using matmul function\n",
    "A=np.array([[1,2],[3,4]])\n",
    "B=np.array([[5,6],[7,9]])\n",
    "result=np.matmul(A,B)\n",
    "print(result)"
   ]
  },
  {
   "cell_type": "raw",
   "id": "0b1a7d83-65ee-45a2-a63e-f076b4e30a7b",
   "metadata": {},
   "source": [
    "arr.flatten()\n",
    "print(arr)"
   ]
  },
  {
   "cell_type": "code",
   "execution_count": 31,
   "id": "c7c78307-53e2-45cf-9dbc-9e7edb959165",
   "metadata": {},
   "outputs": [
    {
     "name": "stdout",
     "output_type": "stream",
     "text": [
      "[1 2 3 3 4 5 6 7 8]\n"
     ]
    }
   ],
   "source": [
    "#flatten \n",
    "arr=np.array([[1,2,3],[3,4,5],[6,7,8]])\n",
    "a=arr.flatten(order='c') #here c for row wise\n",
    "print(a)"
   ]
  },
  {
   "cell_type": "code",
   "execution_count": 32,
   "id": "c4cfc7a8-7170-4b57-97da-a86f0a6bdd3b",
   "metadata": {},
   "outputs": [
    {
     "name": "stdout",
     "output_type": "stream",
     "text": [
      "[1 3 6 2 4 7 3 5 8]\n"
     ]
    }
   ],
   "source": [
    "#flatten \n",
    "arr=np.array([[1,2,3],[3,4,5],[6,7,8]])\n",
    "a=arr.flatten(order='f') #here f-for column wise\n",
    "print(a)"
   ]
  },
  {
   "cell_type": "code",
   "execution_count": 33,
   "id": "660bc44c-f4bb-4594-b0d4-fba4d7809584",
   "metadata": {},
   "outputs": [
    {
     "name": "stdout",
     "output_type": "stream",
     "text": [
      "[[0.73543289 0.40721611 0.9049561 ]\n",
      " [0.05637149 0.03344036 0.8688744 ]]\n"
     ]
    }
   ],
   "source": [
    "import numpy as np \n",
    "#create an empty 2x3 array\n",
    "arr=np.empty((2,3))\n",
    "print(arr)"
   ]
  },
  {
   "cell_type": "code",
   "execution_count": null,
   "id": "4426e20d-a019-4239-81e1-e908720ad08d",
   "metadata": {},
   "outputs": [],
   "source": [
    "#find indices of non zero elements[1,2,0,0,4,0]\n",
    "import numpy as np\n",
    "#create the array\n",
    "arr=np.array([1,2,0,0,4,0])\n",
    "zeros=np.nonzero(arr)\n",
    "print('Indices of non zero elements:',zeros)"
   ]
  },
  {
   "cell_type": "code",
   "execution_count": 59,
   "id": "7cc7ea56-b6c1-4dd5-98a8-a65ec2275ced",
   "metadata": {},
   "outputs": [
    {
     "name": "stdout",
     "output_type": "stream",
     "text": [
      "[0. 0. 0. 0. 0. 0. 0. 0. 0. 0.]\n"
     ]
    }
   ],
   "source": [
    "# create a null vector of size 10\n",
    "import numpy as np\n",
    "null=np.zeros(10)\n",
    "print(null)"
   ]
  },
  {
   "cell_type": "code",
   "execution_count": 60,
   "id": "b888b7cc-e11e-450e-b934-0242f4b72852",
   "metadata": {},
   "outputs": [
    {
     "name": "stdout",
     "output_type": "stream",
     "text": [
      "[0. 0. 0. 0. 1. 0. 0. 0. 0. 0.]\n"
     ]
    }
   ],
   "source": [
    "#create a null vector of size 10 but the fifth value which is 1\n",
    "import numpy as np\n",
    "null=np.zeros(10) #here create null vector soze of 10\n",
    "null[4]=1 # and here we are initialize 1 value to 4\n",
    "print(null)"
   ]
  },
  {
   "cell_type": "code",
   "execution_count": 61,
   "id": "88a1d913-2d51-43cb-bcd7-54f2ba5a5930",
   "metadata": {},
   "outputs": [
    {
     "name": "stdout",
     "output_type": "stream",
     "text": [
      "[7 6 5 4 3 2 1]\n"
     ]
    }
   ],
   "source": [
    "# Reverse a vector (first element becomes last)\n",
    "import numpy as np\n",
    "vector=np.array([1,2,3,4,5,6,7])\n",
    "reversed_vector=vector[::-1] # here reversing vector with the help of slicing ::-1\n",
    "print(reversed_vector)"
   ]
  },
  {
   "cell_type": "code",
   "execution_count": 62,
   "id": "02839280-3198-4355-8623-4bc5faa0e9e4",
   "metadata": {},
   "outputs": [
    {
     "name": "stdout",
     "output_type": "stream",
     "text": [
      "[[0 1 2]\n",
      " [3 4 5]\n",
      " [6 7 8]]\n"
     ]
    }
   ],
   "source": [
    "#create a 3x3 matrix with values ranging form 0 to 8\n",
    "import numpy as np \n",
    "arr=np.arange(9).reshape(3, 3)\n",
    "print(arr)"
   ]
  },
  {
   "cell_type": "code",
   "execution_count": 63,
   "id": "e1485ff8-f594-4268-9872-3666f47b808c",
   "metadata": {},
   "outputs": [
    {
     "name": "stdout",
     "output_type": "stream",
     "text": [
      "[[1. 0. 0.]\n",
      " [0. 1. 0.]\n",
      " [0. 0. 1.]]\n"
     ]
    }
   ],
   "source": [
    "#create a 3x3 identity matrix\n",
    "import numpy as np\n",
    "identity_matrix=np.eye(3) # eye use for creating identity matrix\n",
    "print(identity_matrix)"
   ]
  },
  {
   "cell_type": "code",
   "execution_count": 64,
   "id": "36690e9e-68cc-4f01-ab47-692c09027924",
   "metadata": {},
   "outputs": [
    {
     "name": "stdout",
     "output_type": "stream",
     "text": [
      "[[0.23912422 0.76050911 0.81318876 0.93543972 0.69355269 0.14124208\n",
      "  0.87434986 0.73123247 0.52044806 0.09977478]\n",
      " [0.61741676 0.76681975 0.04176778 0.52020183 0.18702816 0.2702105\n",
      "  0.20335722 0.11932149 0.06763596 0.40845279]\n",
      " [0.02446619 0.31084672 0.18893217 0.54859248 0.85046898 0.03375011\n",
      "  0.94387763 0.52541306 0.41332198 0.27438404]\n",
      " [0.39274933 0.96376235 0.64362799 0.13760661 0.27261349 0.25398245\n",
      "  0.58250747 0.75132206 0.41671522 0.16371487]\n",
      " [0.38241273 0.54806579 0.19629553 0.97263621 0.89300314 0.47066924\n",
      "  0.40203161 0.52919248 0.51068506 0.71443175]\n",
      " [0.74857616 0.52618961 0.94780461 0.81450918 0.71111328 0.42983346\n",
      "  0.11734067 0.31837165 0.89007456 0.38561774]\n",
      " [0.77516859 0.10924906 0.75636104 0.12370502 0.06455913 0.08707717\n",
      "  0.45980496 0.76097163 0.60354964 0.05972804]\n",
      " [0.38427761 0.41678159 0.83242371 0.1072542  0.3746818  0.5363716\n",
      "  0.98587535 0.66481866 0.33780576 0.14542136]\n",
      " [0.77632516 0.52229423 0.06383018 0.79411333 0.9463915  0.11073734\n",
      "  0.97613725 0.51545113 0.66960169 0.44852037]\n",
      " [0.0906139  0.30651442 0.12716047 0.15859172 0.67566148 0.46258175\n",
      "  0.33313958 0.97150453 0.65025866 0.67594288]]\n"
     ]
    }
   ],
   "source": [
    "#create a 10x10 array with random values and find the minimum and maximum values\n",
    "import numpy as np\n",
    "# Create a 10x10 array with random values between 0 and 1\n",
    "random = np.random.rand(10, 10)\n",
    "minn=np.min(random)\n",
    "maxn=np.max(random)\n",
    "print(random) "
   ]
  },
  {
   "cell_type": "code",
   "execution_count": 65,
   "id": "5b5e807e-1c0a-458e-bb70-46fe3ba47ecf",
   "metadata": {},
   "outputs": [
    {
     "data": {
      "text/plain": [
       "list"
      ]
     },
     "execution_count": 65,
     "metadata": {},
     "output_type": "execute_result"
    }
   ],
   "source": [
    "#create a random vector of size 30 and find mean value\n",
    "type([[5]])"
   ]
  },
  {
   "cell_type": "code",
   "execution_count": 66,
   "id": "6ffd48f1-cc6b-493d-91f1-a287ae655c32",
   "metadata": {},
   "outputs": [
    {
     "name": "stdout",
     "output_type": "stream",
     "text": [
      "1\n"
     ]
    }
   ],
   "source": [
    "arr=np.array([5])\n",
    "s=np.ndim(arr)\n",
    "print(s) "
   ]
  },
  {
   "cell_type": "code",
   "execution_count": 67,
   "id": "35276ecf-cc46-4faf-b7a4-417c42ab5089",
   "metadata": {},
   "outputs": [
    {
     "name": "stdout",
     "output_type": "stream",
     "text": [
      "[0.67386913 0.735862   0.6309962  0.87910232 0.77074849 0.39282443\n",
      " 0.67280158 0.29080893 0.94471083 0.86084868 0.8948413  0.48061027\n",
      " 0.6350229  0.19687598 0.5278581  0.19918858 0.64028133 0.34660021\n",
      " 0.26613573 0.63584873 0.05329323 0.26758893 0.80874178 0.91184971\n",
      " 0.71291539 0.46320224 0.29543884 0.33457736 0.30968401 0.51418828]\n"
     ]
    }
   ],
   "source": [
    "#create a random vector of size 30 and find mean\n",
    "import numpy as np \n",
    "random=np.random.rand(30)\n",
    "print(random)\n",
    "arr=np.mean(random) "
   ]
  },
  {
   "cell_type": "code",
   "execution_count": 68,
   "id": "6225b25e-6164-4cf3-8512-7615ccf7d2c7",
   "metadata": {},
   "outputs": [
    {
     "name": "stdout",
     "output_type": "stream",
     "text": [
      "[[1. 1. 1. 1. 1.]\n",
      " [1. 0. 0. 0. 1.]\n",
      " [1. 0. 0. 0. 1.]\n",
      " [1. 0. 0. 0. 1.]\n",
      " [1. 1. 1. 1. 1.]]\n"
     ]
    }
   ],
   "source": [
    "#create a 2D array with 1 on the border and 0 inside\n",
    "import numpy as np\n",
    "#create a 2D array of size 5x5 with all element initializing to 0\n",
    "arr=np.zeros((5,5))\n",
    "#set the border elements to 1\n",
    "arr[0:5:4]=1\n",
    "arr[::,0:5:4]=1\n",
    "print(arr)"
   ]
  },
  {
   "cell_type": "code",
   "execution_count": 69,
   "id": "5268e7f2-e016-4967-8417-fb6536c8f1df",
   "metadata": {},
   "outputs": [
    {
     "name": "stdout",
     "output_type": "stream",
     "text": [
      "[[[[[1 1 2 3]]]]]\n"
     ]
    },
    {
     "data": {
      "text/plain": [
       "5"
      ]
     },
     "execution_count": 69,
     "metadata": {},
     "output_type": "execute_result"
    }
   ],
   "source": [
    "import numpy as np\n",
    "arr=np.array([1,1,2,3],ndmin=5)\n",
    "print(arr)\n",
    "arr.ndim"
   ]
  },
  {
   "cell_type": "code",
   "execution_count": 70,
   "id": "1818d9a7-5f9e-4ddc-a380-3c7dd88c41d7",
   "metadata": {},
   "outputs": [
    {
     "name": "stdout",
     "output_type": "stream",
     "text": [
      "[4 5 6]\n"
     ]
    }
   ],
   "source": [
    "# boolean indexing \n",
    "import numpy as np\n",
    "# Create a NumPy array\n",
    "arr = np.array([1, 2, 3, 4, 5, 6])\n",
    "# Condition: select elements greater than 3\n",
    "selected_elements = arr[arr > 3]\n",
    "print(selected_elements) "
   ]
  },
  {
   "cell_type": "code",
   "execution_count": 71,
   "id": "a4dd7dcb-6515-476f-afbb-6a9384704d2d",
   "metadata": {},
   "outputs": [
    {
     "name": "stdout",
     "output_type": "stream",
     "text": [
      "[1 2 3 4 5 6]\n"
     ]
    }
   ],
   "source": [
    "arr[0:4:5]=1\n",
    "print(arr)"
   ]
  },
  {
   "cell_type": "code",
   "execution_count": 72,
   "id": "fe868d28-9af9-46e9-92f5-536e86fe74d5",
   "metadata": {},
   "outputs": [
    {
     "name": "stdout",
     "output_type": "stream",
     "text": [
      "[1 2 3 4 1 6]\n"
     ]
    }
   ],
   "source": [
    "arr[::4]=1\n",
    "print(arr)"
   ]
  },
  {
   "cell_type": "code",
   "execution_count": 73,
   "id": "759b99ea-39cb-4e94-accf-eb7a4a5be9d4",
   "metadata": {},
   "outputs": [
    {
     "name": "stdout",
     "output_type": "stream",
     "text": [
      "[20 30 40]\n",
      "[10 30 50]\n"
     ]
    }
   ],
   "source": [
    "arr=np.array([10,20,30,40,50])\n",
    "print(arr[1:4])\n",
    "print(arr[::2])"
   ]
  },
  {
   "cell_type": "code",
   "execution_count": 74,
   "id": "c1331fe2-5d7d-465b-a126-bf99957b8dd3",
   "metadata": {},
   "outputs": [
    {
     "name": "stdout",
     "output_type": "stream",
     "text": [
      "determinant -2.9999999999999996\n"
     ]
    }
   ],
   "source": [
    "# find determinant of matrix\n",
    "import numpy as np\n",
    "arr=np.array([[1,2],[4,5]])\n",
    "determinant=np.linalg.det(arr)\n",
    "print(\"determinant\",determinant)"
   ]
  },
  {
   "cell_type": "code",
   "execution_count": 75,
   "id": "5466e6e4-c385-4bf0-a551-f80e0772bc9a",
   "metadata": {},
   "outputs": [
    {
     "name": "stdout",
     "output_type": "stream",
     "text": [
      "Inverse of A:\n",
      " [[ 0.6 -0.7]\n",
      " [-0.2  0.4]]\n"
     ]
    }
   ],
   "source": [
    "#find inverse of matrix\n",
    "import numpy as np\n",
    "# Define a 2x2 matrix\n",
    "A = np.array([[4, 7], \n",
    "              [2, 6]])\n",
    "# Compute the inverse\n",
    "inv_A = np.linalg.inv(A)\n",
    "print(\"Inverse of A:\\n\", inv_A) "
   ]
  },
  {
   "cell_type": "code",
   "execution_count": 76,
   "id": "f7552da1-b0c1-4353-b2ab-99fb8a0fc306",
   "metadata": {},
   "outputs": [
    {
     "name": "stdout",
     "output_type": "stream",
     "text": [
      "[[1. 0. 0. 0. 1.]\n",
      " [1. 0. 0. 0. 1.]\n",
      " [1. 0. 0. 0. 1.]\n",
      " [1. 0. 0. 0. 1.]\n",
      " [1. 1. 1. 1. 1.]]\n",
      "[[1 2 3 4 5]\n",
      " [6 7 8 9 5]]\n",
      "[1 2 3 4 5 6 7 8 9]\n",
      "[[4 8 3]\n",
      " [3 7 2]\n",
      " [2 6 1]\n",
      " [1 5 9]]\n"
     ]
    }
   ],
   "source": [
    "'''1. Array Manipulation\n",
    "🔹 Generate a 5×5 matrix where elements on the border are 1, and the inside is 0.\n",
    "# Expected Output:\n",
    "# [[1. 1. 1. 1. 1.]\n",
    "#  [1. 0. 0. 0. 1.]\n",
    "#  [1. 0. 0. 0. 1.]\n",
    "#  [1. 0. 0. 0. 1.]\n",
    "#  [1. 1. 1. 1. 1.]]\n",
    "🔹 Reshape a 1D array of 20 elements into a 4×5 matrix without using reshape().\n",
    "🔹 Rotate a given 4×4 NumPy array by 90 degrees counterclockwise.\n",
    "🔹 Flatten a 3D NumPy array into a 1D array.'''\n",
    "import numpy as py\n",
    "arr=np.zeros((5,5))\n",
    "arr[0:4:4,0:4:4]=1\n",
    "arr[-1::]=1\n",
    "arr[:,0]=1\n",
    "arr[:,4]=1\n",
    "print(arr) #elements on the border are 1, and the inside is 0\n",
    "arr=np.array([[1,2,3,4,5],[6,7,8,9,5]]) \n",
    "reshaped=arr.reshape((1,10))\n",
    "print(arr) #reshaped\n",
    "arr=np.array([[1,2,3],[4,5,6],[7,8,9]])\n",
    "arr=arr.flatten() #flatten array\n",
    "print(arr)\n",
    "arr2=np.array([[1,2,3,4],[5,6,7,8],[9,1,2,3]])\n",
    "arr3=np.rot90(arr2,k=1) \n",
    "print(arr3) "
   ]
  },
  {
   "cell_type": "code",
   "execution_count": 77,
   "id": "c776d913-cc3c-40e2-bcea-6668b43222e3",
   "metadata": {},
   "outputs": [
    {
     "data": {
      "text/plain": [
       "array([[ 0.52422894,  4.68835613, -1.4358141 ],\n",
       "       [ 0.72171232,  3.34093874,  1.88401973]])"
      ]
     },
     "execution_count": 77,
     "metadata": {},
     "output_type": "execute_result"
    }
   ],
   "source": [
    "#Normal distibution\n",
    "from numpy import random\n",
    "x=random.normal(loc=1,scale=2,size=(2,3))\n",
    "x"
   ]
  },
  {
   "cell_type": "code",
   "execution_count": 78,
   "id": "c3c6d17b-2d06-4f9b-b8ee-f39807f393c6",
   "metadata": {},
   "outputs": [
    {
     "data": {
      "text/plain": [
       "array([5, 6, 4, 6, 3, 7, 2, 2, 4, 5], dtype=int32)"
      ]
     },
     "execution_count": 78,
     "metadata": {},
     "output_type": "execute_result"
    }
   ],
   "source": [
    "#binomial distribution\n",
    "from numpy import random\n",
    "y=random.binomial(n=10,p=0.5,size=10)\n",
    "y"
   ]
  },
  {
   "cell_type": "code",
   "execution_count": 79,
   "id": "8daebb2c-283b-47f6-9ed1-b4678c31844e",
   "metadata": {},
   "outputs": [
    {
     "data": {
      "text/plain": [
       "array([1, 2, 2, 0, 6, 2, 3, 1, 3, 2], dtype=int32)"
      ]
     },
     "execution_count": 79,
     "metadata": {},
     "output_type": "execute_result"
    }
   ],
   "source": [
    "#Poisson distribution\n",
    "from numpy import random\n",
    "x=random.poisson(lam=2,size=10)\n",
    "x"
   ]
  },
  {
   "cell_type": "code",
   "execution_count": 80,
   "id": "9791684e-0982-430d-8a6a-3c7ab1f637f2",
   "metadata": {},
   "outputs": [
    {
     "data": {
      "text/plain": [
       "array([[0.51585555, 0.13325746, 0.73662095],\n",
       "       [0.12509618, 0.97472687, 0.16938342]])"
      ]
     },
     "execution_count": 80,
     "metadata": {},
     "output_type": "execute_result"
    }
   ],
   "source": [
    "#Uniform Distribution\n",
    "from numpy import random \n",
    "x=random.uniform(size=(2,3))\n",
    "x"
   ]
  },
  {
   "cell_type": "code",
   "execution_count": null,
   "id": "29ff2f05-6a5c-4896-97e1-913f1a3923e9",
   "metadata": {},
   "outputs": [],
   "source": []
  },
  {
   "cell_type": "code",
   "execution_count": null,
   "id": "f4c1544f-e8d1-4765-9ed8-b307d7e81911",
   "metadata": {},
   "outputs": [],
   "source": []
  },
  {
   "cell_type": "code",
   "execution_count": null,
   "id": "5b1b0dfa-e5cb-4242-a743-1fb033a9008a",
   "metadata": {},
   "outputs": [],
   "source": []
  },
  {
   "cell_type": "code",
   "execution_count": null,
   "id": "b7713c5f-af32-4ef5-b9a1-333037a3ca1e",
   "metadata": {},
   "outputs": [],
   "source": []
  }
 ],
 "metadata": {
  "kernelspec": {
   "display_name": "Python 3 (ipykernel)",
   "language": "python",
   "name": "python3"
  },
  "language_info": {
   "codemirror_mode": {
    "name": "ipython",
    "version": 3
   },
   "file_extension": ".py",
   "mimetype": "text/x-python",
   "name": "python",
   "nbconvert_exporter": "python",
   "pygments_lexer": "ipython3",
   "version": "3.13.2"
  }
 },
 "nbformat": 4,
 "nbformat_minor": 5
}
